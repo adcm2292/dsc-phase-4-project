{
 "cells": [
  {
   "cell_type": "markdown",
   "metadata": {},
   "source": [
    "# Phase 4 Project: Time Series Modeling\n",
    "\n",
    "##  Forecasting Real Estate Prices Using Time Series"
   ]
  },
  {
   "cell_type": "markdown",
   "metadata": {},
   "source": [
    "* Student Name: Andrea Cabello"
   ]
  },
  {
   "cell_type": "markdown",
   "metadata": {},
   "source": [
    "## I. Overview \n",
    "\n",
    "I have been hired by a real-estate investment firm to help them understand:\n",
    "- How real estate prices have changed overtime and, \n",
    "- How to use this information to invest in areas with the most potential value increase.\n",
    "\n",
    "To get me started I have been provided with a dataset from [Zillow Research](https://www.zillow.com/research/data/)\n",
    "\n",
    "### Home values\n",
    "\n",
    "Zillow Home Value Index (ZHVI): A smoothed, seasonally adjusted measure of the typical home value and market changes across a given region and housing type. It reflects the typical value for homes in the 35th to 65th percentile range. \n",
    "\n",
    "### Housing Bubble\n",
    "\n",
    "* On December 30, 2008, the [Case–Shiller home price index](https://en.wikipedia.org/wiki/Case%E2%80%93Shiller_index) reported its largest price drop in its history. \n",
    "* The credit crisis resulting from the bursting of the housing bubble is an important cause of the Great Recession in the United States.\n"
   ]
  },
  {
   "cell_type": "markdown",
   "metadata": {},
   "source": [
    "## II. Business Problem\n",
    "\n",
    "* What are the top 5 best zip codes for us to invest in?\n",
    "\n",
    "Let's begin by defining best: \n",
    "* What makes the value of a property go up?\n",
    "* Law of Supply and Demand. e movements. Property values rise when a low supply of homes for sale meets strong buyer demand, as buyers compete in bidding wars to secure a home from the limited inventory.\n",
    "\n",
    "* Return On Investment\n",
    "* Average price over time\n",
    "* Jobs Market\n",
    "* Population growth\n",
    "* Access to the city center or other relevant landmarks"
   ]
  },
  {
   "cell_type": "markdown",
   "metadata": {},
   "source": [
    "## III. Cleaning and Obtaining Data"
   ]
  },
  {
   "cell_type": "code",
   "execution_count": 268,
   "metadata": {},
   "outputs": [],
   "source": [
    "import pandas as pd\n",
    "from pandas import Series\n",
    "import seaborn as sns\n",
    "import matplotlib as mpl\n",
    "import matplotlib.pyplot as plt\n",
    "\n",
    "import warnings\n",
    "warnings.filterwarnings('ignore')"
   ]
  },
  {
   "cell_type": "code",
   "execution_count": 269,
   "metadata": {},
   "outputs": [],
   "source": [
    "df = pd.read_csv('zillow_data.csv')"
   ]
  },
  {
   "cell_type": "code",
   "execution_count": 270,
   "metadata": {
    "scrolled": false
   },
   "outputs": [
    {
     "name": "stdout",
     "output_type": "stream",
     "text": [
      "<class 'pandas.core.frame.DataFrame'>\n",
      "RangeIndex: 14723 entries, 0 to 14722\n",
      "Columns: 272 entries, RegionID to 2018-04\n",
      "dtypes: float64(219), int64(49), object(4)\n",
      "memory usage: 30.6+ MB\n"
     ]
    },
    {
     "data": {
      "text/html": [
       "<div>\n",
       "<style scoped>\n",
       "    .dataframe tbody tr th:only-of-type {\n",
       "        vertical-align: middle;\n",
       "    }\n",
       "\n",
       "    .dataframe tbody tr th {\n",
       "        vertical-align: top;\n",
       "    }\n",
       "\n",
       "    .dataframe thead th {\n",
       "        text-align: right;\n",
       "    }\n",
       "</style>\n",
       "<table border=\"1\" class=\"dataframe\">\n",
       "  <thead>\n",
       "    <tr style=\"text-align: right;\">\n",
       "      <th></th>\n",
       "      <th>RegionID</th>\n",
       "      <th>RegionName</th>\n",
       "      <th>City</th>\n",
       "      <th>State</th>\n",
       "      <th>Metro</th>\n",
       "      <th>CountyName</th>\n",
       "      <th>SizeRank</th>\n",
       "      <th>1996-04</th>\n",
       "      <th>1996-05</th>\n",
       "      <th>1996-06</th>\n",
       "      <th>...</th>\n",
       "      <th>2017-07</th>\n",
       "      <th>2017-08</th>\n",
       "      <th>2017-09</th>\n",
       "      <th>2017-10</th>\n",
       "      <th>2017-11</th>\n",
       "      <th>2017-12</th>\n",
       "      <th>2018-01</th>\n",
       "      <th>2018-02</th>\n",
       "      <th>2018-03</th>\n",
       "      <th>2018-04</th>\n",
       "    </tr>\n",
       "  </thead>\n",
       "  <tbody>\n",
       "    <tr>\n",
       "      <th>0</th>\n",
       "      <td>84654</td>\n",
       "      <td>60657</td>\n",
       "      <td>Chicago</td>\n",
       "      <td>IL</td>\n",
       "      <td>Chicago</td>\n",
       "      <td>Cook</td>\n",
       "      <td>1</td>\n",
       "      <td>334200.0</td>\n",
       "      <td>335400.0</td>\n",
       "      <td>336500.0</td>\n",
       "      <td>...</td>\n",
       "      <td>1005500</td>\n",
       "      <td>1007500</td>\n",
       "      <td>1007800</td>\n",
       "      <td>1009600</td>\n",
       "      <td>1013300</td>\n",
       "      <td>1018700</td>\n",
       "      <td>1024400</td>\n",
       "      <td>1030700</td>\n",
       "      <td>1033800</td>\n",
       "      <td>1030600</td>\n",
       "    </tr>\n",
       "    <tr>\n",
       "      <th>1</th>\n",
       "      <td>90668</td>\n",
       "      <td>75070</td>\n",
       "      <td>McKinney</td>\n",
       "      <td>TX</td>\n",
       "      <td>Dallas-Fort Worth</td>\n",
       "      <td>Collin</td>\n",
       "      <td>2</td>\n",
       "      <td>235700.0</td>\n",
       "      <td>236900.0</td>\n",
       "      <td>236700.0</td>\n",
       "      <td>...</td>\n",
       "      <td>308000</td>\n",
       "      <td>310000</td>\n",
       "      <td>312500</td>\n",
       "      <td>314100</td>\n",
       "      <td>315000</td>\n",
       "      <td>316600</td>\n",
       "      <td>318100</td>\n",
       "      <td>319600</td>\n",
       "      <td>321100</td>\n",
       "      <td>321800</td>\n",
       "    </tr>\n",
       "    <tr>\n",
       "      <th>2</th>\n",
       "      <td>91982</td>\n",
       "      <td>77494</td>\n",
       "      <td>Katy</td>\n",
       "      <td>TX</td>\n",
       "      <td>Houston</td>\n",
       "      <td>Harris</td>\n",
       "      <td>3</td>\n",
       "      <td>210400.0</td>\n",
       "      <td>212200.0</td>\n",
       "      <td>212200.0</td>\n",
       "      <td>...</td>\n",
       "      <td>321000</td>\n",
       "      <td>320600</td>\n",
       "      <td>320200</td>\n",
       "      <td>320400</td>\n",
       "      <td>320800</td>\n",
       "      <td>321200</td>\n",
       "      <td>321200</td>\n",
       "      <td>323000</td>\n",
       "      <td>326900</td>\n",
       "      <td>329900</td>\n",
       "    </tr>\n",
       "    <tr>\n",
       "      <th>3</th>\n",
       "      <td>84616</td>\n",
       "      <td>60614</td>\n",
       "      <td>Chicago</td>\n",
       "      <td>IL</td>\n",
       "      <td>Chicago</td>\n",
       "      <td>Cook</td>\n",
       "      <td>4</td>\n",
       "      <td>498100.0</td>\n",
       "      <td>500900.0</td>\n",
       "      <td>503100.0</td>\n",
       "      <td>...</td>\n",
       "      <td>1289800</td>\n",
       "      <td>1287700</td>\n",
       "      <td>1287400</td>\n",
       "      <td>1291500</td>\n",
       "      <td>1296600</td>\n",
       "      <td>1299000</td>\n",
       "      <td>1302700</td>\n",
       "      <td>1306400</td>\n",
       "      <td>1308500</td>\n",
       "      <td>1307000</td>\n",
       "    </tr>\n",
       "    <tr>\n",
       "      <th>4</th>\n",
       "      <td>93144</td>\n",
       "      <td>79936</td>\n",
       "      <td>El Paso</td>\n",
       "      <td>TX</td>\n",
       "      <td>El Paso</td>\n",
       "      <td>El Paso</td>\n",
       "      <td>5</td>\n",
       "      <td>77300.0</td>\n",
       "      <td>77300.0</td>\n",
       "      <td>77300.0</td>\n",
       "      <td>...</td>\n",
       "      <td>119100</td>\n",
       "      <td>119400</td>\n",
       "      <td>120000</td>\n",
       "      <td>120300</td>\n",
       "      <td>120300</td>\n",
       "      <td>120300</td>\n",
       "      <td>120300</td>\n",
       "      <td>120500</td>\n",
       "      <td>121000</td>\n",
       "      <td>121500</td>\n",
       "    </tr>\n",
       "  </tbody>\n",
       "</table>\n",
       "<p>5 rows × 272 columns</p>\n",
       "</div>"
      ],
      "text/plain": [
       "   RegionID  RegionName      City State              Metro CountyName  \\\n",
       "0     84654       60657   Chicago    IL            Chicago       Cook   \n",
       "1     90668       75070  McKinney    TX  Dallas-Fort Worth     Collin   \n",
       "2     91982       77494      Katy    TX            Houston     Harris   \n",
       "3     84616       60614   Chicago    IL            Chicago       Cook   \n",
       "4     93144       79936   El Paso    TX            El Paso    El Paso   \n",
       "\n",
       "   SizeRank   1996-04   1996-05   1996-06  ...  2017-07  2017-08  2017-09  \\\n",
       "0         1  334200.0  335400.0  336500.0  ...  1005500  1007500  1007800   \n",
       "1         2  235700.0  236900.0  236700.0  ...   308000   310000   312500   \n",
       "2         3  210400.0  212200.0  212200.0  ...   321000   320600   320200   \n",
       "3         4  498100.0  500900.0  503100.0  ...  1289800  1287700  1287400   \n",
       "4         5   77300.0   77300.0   77300.0  ...   119100   119400   120000   \n",
       "\n",
       "   2017-10  2017-11  2017-12  2018-01  2018-02  2018-03  2018-04  \n",
       "0  1009600  1013300  1018700  1024400  1030700  1033800  1030600  \n",
       "1   314100   315000   316600   318100   319600   321100   321800  \n",
       "2   320400   320800   321200   321200   323000   326900   329900  \n",
       "3  1291500  1296600  1299000  1302700  1306400  1308500  1307000  \n",
       "4   120300   120300   120300   120300   120500   121000   121500  \n",
       "\n",
       "[5 rows x 272 columns]"
      ]
     },
     "execution_count": 270,
     "metadata": {},
     "output_type": "execute_result"
    }
   ],
   "source": [
    "df.info()\n",
    "df.head()"
   ]
  },
  {
   "cell_type": "code",
   "execution_count": 271,
   "metadata": {},
   "outputs": [
    {
     "name": "stdout",
     "output_type": "stream",
     "text": [
      "Total Zipcodes in DataFrame: 14723\n"
     ]
    }
   ],
   "source": [
    "print('Total Zipcodes in DataFrame:', len(df))"
   ]
  },
  {
   "cell_type": "markdown",
   "metadata": {},
   "source": [
    "### Connecticut"
   ]
  },
  {
   "cell_type": "markdown",
   "metadata": {},
   "source": [
    "* The firm is particularly interested in off-the-beaten-path areas of the North East Coast so I will focus my analysis on CT zipcodes."
   ]
  },
  {
   "cell_type": "code",
   "execution_count": 272,
   "metadata": {},
   "outputs": [],
   "source": [
    "## selecting ct zipcodes\n",
    "df_ct = df.loc[df['State']== 'CT'].reset_index()\n",
    "df_ct.drop(['index', 'RegionID', 'City', 'State'], axis=1, inplace=True)\n",
    "df_ct.rename(columns={'RegionName': 'Zipcode'}, inplace=True)"
   ]
  },
  {
   "cell_type": "code",
   "execution_count": 273,
   "metadata": {
    "scrolled": true
   },
   "outputs": [
    {
     "name": "stdout",
     "output_type": "stream",
     "text": [
      "<class 'pandas.core.frame.DataFrame'>\n",
      "RangeIndex: 124 entries, 0 to 123\n",
      "Columns: 269 entries, Zipcode to 2018-04\n",
      "dtypes: float64(219), int64(48), object(2)\n",
      "memory usage: 260.7+ KB\n"
     ]
    },
    {
     "data": {
      "text/html": [
       "<div>\n",
       "<style scoped>\n",
       "    .dataframe tbody tr th:only-of-type {\n",
       "        vertical-align: middle;\n",
       "    }\n",
       "\n",
       "    .dataframe tbody tr th {\n",
       "        vertical-align: top;\n",
       "    }\n",
       "\n",
       "    .dataframe thead th {\n",
       "        text-align: right;\n",
       "    }\n",
       "</style>\n",
       "<table border=\"1\" class=\"dataframe\">\n",
       "  <thead>\n",
       "    <tr style=\"text-align: right;\">\n",
       "      <th></th>\n",
       "      <th>Zipcode</th>\n",
       "      <th>Metro</th>\n",
       "      <th>CountyName</th>\n",
       "      <th>SizeRank</th>\n",
       "      <th>1996-04</th>\n",
       "      <th>1996-05</th>\n",
       "      <th>1996-06</th>\n",
       "      <th>1996-07</th>\n",
       "      <th>1996-08</th>\n",
       "      <th>1996-09</th>\n",
       "      <th>...</th>\n",
       "      <th>2017-07</th>\n",
       "      <th>2017-08</th>\n",
       "      <th>2017-09</th>\n",
       "      <th>2017-10</th>\n",
       "      <th>2017-11</th>\n",
       "      <th>2017-12</th>\n",
       "      <th>2018-01</th>\n",
       "      <th>2018-02</th>\n",
       "      <th>2018-03</th>\n",
       "      <th>2018-04</th>\n",
       "    </tr>\n",
       "  </thead>\n",
       "  <tbody>\n",
       "    <tr>\n",
       "      <th>0</th>\n",
       "      <td>6010</td>\n",
       "      <td>Hartford</td>\n",
       "      <td>Hartford</td>\n",
       "      <td>113</td>\n",
       "      <td>120300.0</td>\n",
       "      <td>120000.0</td>\n",
       "      <td>119800.0</td>\n",
       "      <td>119400.0</td>\n",
       "      <td>119100.0</td>\n",
       "      <td>118800.0</td>\n",
       "      <td>...</td>\n",
       "      <td>188900</td>\n",
       "      <td>190000</td>\n",
       "      <td>191200</td>\n",
       "      <td>191800</td>\n",
       "      <td>192900</td>\n",
       "      <td>193600</td>\n",
       "      <td>194100</td>\n",
       "      <td>194900</td>\n",
       "      <td>195700</td>\n",
       "      <td>195700</td>\n",
       "    </tr>\n",
       "    <tr>\n",
       "      <th>1</th>\n",
       "      <td>6516</td>\n",
       "      <td>New Haven</td>\n",
       "      <td>New Haven</td>\n",
       "      <td>417</td>\n",
       "      <td>96500.0</td>\n",
       "      <td>96300.0</td>\n",
       "      <td>96100.0</td>\n",
       "      <td>95900.0</td>\n",
       "      <td>95600.0</td>\n",
       "      <td>95300.0</td>\n",
       "      <td>...</td>\n",
       "      <td>176600</td>\n",
       "      <td>176600</td>\n",
       "      <td>177300</td>\n",
       "      <td>177800</td>\n",
       "      <td>178200</td>\n",
       "      <td>178700</td>\n",
       "      <td>179700</td>\n",
       "      <td>180200</td>\n",
       "      <td>179700</td>\n",
       "      <td>178700</td>\n",
       "    </tr>\n",
       "    <tr>\n",
       "      <th>2</th>\n",
       "      <td>6511</td>\n",
       "      <td>New Haven</td>\n",
       "      <td>New Haven</td>\n",
       "      <td>546</td>\n",
       "      <td>89800.0</td>\n",
       "      <td>90000.0</td>\n",
       "      <td>90200.0</td>\n",
       "      <td>90300.0</td>\n",
       "      <td>90500.0</td>\n",
       "      <td>90700.0</td>\n",
       "      <td>...</td>\n",
       "      <td>181400</td>\n",
       "      <td>184000</td>\n",
       "      <td>187700</td>\n",
       "      <td>190100</td>\n",
       "      <td>193100</td>\n",
       "      <td>196300</td>\n",
       "      <td>198400</td>\n",
       "      <td>199100</td>\n",
       "      <td>199100</td>\n",
       "      <td>198300</td>\n",
       "    </tr>\n",
       "    <tr>\n",
       "      <th>3</th>\n",
       "      <td>6810</td>\n",
       "      <td>Stamford</td>\n",
       "      <td>Fairfield</td>\n",
       "      <td>685</td>\n",
       "      <td>151100.0</td>\n",
       "      <td>150700.0</td>\n",
       "      <td>150200.0</td>\n",
       "      <td>149700.0</td>\n",
       "      <td>149100.0</td>\n",
       "      <td>148600.0</td>\n",
       "      <td>...</td>\n",
       "      <td>252200</td>\n",
       "      <td>254800</td>\n",
       "      <td>258500</td>\n",
       "      <td>260900</td>\n",
       "      <td>262500</td>\n",
       "      <td>264000</td>\n",
       "      <td>265300</td>\n",
       "      <td>266100</td>\n",
       "      <td>266500</td>\n",
       "      <td>266500</td>\n",
       "    </tr>\n",
       "    <tr>\n",
       "      <th>4</th>\n",
       "      <td>6492</td>\n",
       "      <td>New Haven</td>\n",
       "      <td>New Haven</td>\n",
       "      <td>899</td>\n",
       "      <td>146800.0</td>\n",
       "      <td>146600.0</td>\n",
       "      <td>146300.0</td>\n",
       "      <td>146100.0</td>\n",
       "      <td>145900.0</td>\n",
       "      <td>145700.0</td>\n",
       "      <td>...</td>\n",
       "      <td>247600</td>\n",
       "      <td>248700</td>\n",
       "      <td>250200</td>\n",
       "      <td>251700</td>\n",
       "      <td>253100</td>\n",
       "      <td>254500</td>\n",
       "      <td>256100</td>\n",
       "      <td>257600</td>\n",
       "      <td>257600</td>\n",
       "      <td>256400</td>\n",
       "    </tr>\n",
       "  </tbody>\n",
       "</table>\n",
       "<p>5 rows × 269 columns</p>\n",
       "</div>"
      ],
      "text/plain": [
       "   Zipcode      Metro CountyName  SizeRank   1996-04   1996-05   1996-06  \\\n",
       "0     6010   Hartford   Hartford       113  120300.0  120000.0  119800.0   \n",
       "1     6516  New Haven  New Haven       417   96500.0   96300.0   96100.0   \n",
       "2     6511  New Haven  New Haven       546   89800.0   90000.0   90200.0   \n",
       "3     6810   Stamford  Fairfield       685  151100.0  150700.0  150200.0   \n",
       "4     6492  New Haven  New Haven       899  146800.0  146600.0  146300.0   \n",
       "\n",
       "    1996-07   1996-08   1996-09  ...  2017-07  2017-08  2017-09  2017-10  \\\n",
       "0  119400.0  119100.0  118800.0  ...   188900   190000   191200   191800   \n",
       "1   95900.0   95600.0   95300.0  ...   176600   176600   177300   177800   \n",
       "2   90300.0   90500.0   90700.0  ...   181400   184000   187700   190100   \n",
       "3  149700.0  149100.0  148600.0  ...   252200   254800   258500   260900   \n",
       "4  146100.0  145900.0  145700.0  ...   247600   248700   250200   251700   \n",
       "\n",
       "   2017-11  2017-12  2018-01  2018-02  2018-03  2018-04  \n",
       "0   192900   193600   194100   194900   195700   195700  \n",
       "1   178200   178700   179700   180200   179700   178700  \n",
       "2   193100   196300   198400   199100   199100   198300  \n",
       "3   262500   264000   265300   266100   266500   266500  \n",
       "4   253100   254500   256100   257600   257600   256400  \n",
       "\n",
       "[5 rows x 269 columns]"
      ]
     },
     "execution_count": 273,
     "metadata": {},
     "output_type": "execute_result"
    }
   ],
   "source": [
    "df_ct.info()\n",
    "df_ct.head()"
   ]
  },
  {
   "cell_type": "code",
   "execution_count": 274,
   "metadata": {},
   "outputs": [
    {
     "data": {
      "text/plain": [
       "array(['Hartford', 'New Haven', 'Stamford', 'New London', 'Torrington',\n",
       "       'Worcester'], dtype=object)"
      ]
     },
     "execution_count": 274,
     "metadata": {},
     "output_type": "execute_result"
    }
   ],
   "source": [
    "df_ct.Metro.unique()"
   ]
  },
  {
   "cell_type": "code",
   "execution_count": 275,
   "metadata": {},
   "outputs": [
    {
     "name": "stdout",
     "output_type": "stream",
     "text": [
      "Number of CT zipcodes: 124\n"
     ]
    }
   ],
   "source": [
    "print(f'Number of CT zipcodes: {len(df_ct)}')"
   ]
  },
  {
   "cell_type": "markdown",
   "metadata": {},
   "source": [
    "### Reshape from Wide to Long Format"
   ]
  },
  {
   "cell_type": "code",
   "execution_count": 288,
   "metadata": {},
   "outputs": [],
   "source": [
    "def melt_data(df):\n",
    "    melted = pd.melt(df, id_vars=['Zipcode', 'Metro', 'CountyName', 'SizeRank'], \n",
    "                     var_name='Date')\n",
    "    melted['Date'] = pd.to_datetime(melted['Date'], infer_datetime_format=True)\n",
    "    melted = melted.dropna(subset=['value'])\n",
    "    return melted"
   ]
  },
  {
   "cell_type": "code",
   "execution_count": 289,
   "metadata": {},
   "outputs": [],
   "source": [
    "melted_df = melt_data(df_ct)"
   ]
  },
  {
   "cell_type": "code",
   "execution_count": 290,
   "metadata": {},
   "outputs": [
    {
     "data": {
      "text/plain": [
       "Zipcode  Metro  CountyName  SizeRank  Date   value\n",
       "False    False  False       False     False  False    32860\n",
       "dtype: int64"
      ]
     },
     "execution_count": 290,
     "metadata": {},
     "output_type": "execute_result"
    }
   ],
   "source": [
    "melted_df.isna().value_counts()"
   ]
  },
  {
   "cell_type": "code",
   "execution_count": 291,
   "metadata": {
    "scrolled": false
   },
   "outputs": [
    {
     "name": "stdout",
     "output_type": "stream",
     "text": [
      "<class 'pandas.core.frame.DataFrame'>\n",
      "Int64Index: 32860 entries, 0 to 32859\n",
      "Data columns (total 6 columns):\n",
      " #   Column      Non-Null Count  Dtype         \n",
      "---  ------      --------------  -----         \n",
      " 0   Zipcode     32860 non-null  int64         \n",
      " 1   Metro       32860 non-null  object        \n",
      " 2   CountyName  32860 non-null  object        \n",
      " 3   SizeRank    32860 non-null  int64         \n",
      " 4   Date        32860 non-null  datetime64[ns]\n",
      " 5   value       32860 non-null  float64       \n",
      "dtypes: datetime64[ns](1), float64(1), int64(2), object(2)\n",
      "memory usage: 1.8+ MB\n"
     ]
    },
    {
     "data": {
      "text/html": [
       "<div>\n",
       "<style scoped>\n",
       "    .dataframe tbody tr th:only-of-type {\n",
       "        vertical-align: middle;\n",
       "    }\n",
       "\n",
       "    .dataframe tbody tr th {\n",
       "        vertical-align: top;\n",
       "    }\n",
       "\n",
       "    .dataframe thead th {\n",
       "        text-align: right;\n",
       "    }\n",
       "</style>\n",
       "<table border=\"1\" class=\"dataframe\">\n",
       "  <thead>\n",
       "    <tr style=\"text-align: right;\">\n",
       "      <th></th>\n",
       "      <th>Zipcode</th>\n",
       "      <th>Metro</th>\n",
       "      <th>CountyName</th>\n",
       "      <th>SizeRank</th>\n",
       "      <th>Date</th>\n",
       "      <th>value</th>\n",
       "    </tr>\n",
       "  </thead>\n",
       "  <tbody>\n",
       "    <tr>\n",
       "      <th>0</th>\n",
       "      <td>6010</td>\n",
       "      <td>Hartford</td>\n",
       "      <td>Hartford</td>\n",
       "      <td>113</td>\n",
       "      <td>1996-04-01</td>\n",
       "      <td>120300.0</td>\n",
       "    </tr>\n",
       "    <tr>\n",
       "      <th>1</th>\n",
       "      <td>6516</td>\n",
       "      <td>New Haven</td>\n",
       "      <td>New Haven</td>\n",
       "      <td>417</td>\n",
       "      <td>1996-04-01</td>\n",
       "      <td>96500.0</td>\n",
       "    </tr>\n",
       "    <tr>\n",
       "      <th>2</th>\n",
       "      <td>6511</td>\n",
       "      <td>New Haven</td>\n",
       "      <td>New Haven</td>\n",
       "      <td>546</td>\n",
       "      <td>1996-04-01</td>\n",
       "      <td>89800.0</td>\n",
       "    </tr>\n",
       "    <tr>\n",
       "      <th>3</th>\n",
       "      <td>6810</td>\n",
       "      <td>Stamford</td>\n",
       "      <td>Fairfield</td>\n",
       "      <td>685</td>\n",
       "      <td>1996-04-01</td>\n",
       "      <td>151100.0</td>\n",
       "    </tr>\n",
       "    <tr>\n",
       "      <th>4</th>\n",
       "      <td>6492</td>\n",
       "      <td>New Haven</td>\n",
       "      <td>New Haven</td>\n",
       "      <td>899</td>\n",
       "      <td>1996-04-01</td>\n",
       "      <td>146800.0</td>\n",
       "    </tr>\n",
       "  </tbody>\n",
       "</table>\n",
       "</div>"
      ],
      "text/plain": [
       "   Zipcode      Metro CountyName  SizeRank       Date     value\n",
       "0     6010   Hartford   Hartford       113 1996-04-01  120300.0\n",
       "1     6516  New Haven  New Haven       417 1996-04-01   96500.0\n",
       "2     6511  New Haven  New Haven       546 1996-04-01   89800.0\n",
       "3     6810   Stamford  Fairfield       685 1996-04-01  151100.0\n",
       "4     6492  New Haven  New Haven       899 1996-04-01  146800.0"
      ]
     },
     "execution_count": 291,
     "metadata": {},
     "output_type": "execute_result"
    }
   ],
   "source": [
    "melted_df.info()\n",
    "melted_df.head()"
   ]
  },
  {
   "cell_type": "code",
   "execution_count": 292,
   "metadata": {},
   "outputs": [
    {
     "data": {
      "text/html": [
       "<div>\n",
       "<style scoped>\n",
       "    .dataframe tbody tr th:only-of-type {\n",
       "        vertical-align: middle;\n",
       "    }\n",
       "\n",
       "    .dataframe tbody tr th {\n",
       "        vertical-align: top;\n",
       "    }\n",
       "\n",
       "    .dataframe thead th {\n",
       "        text-align: right;\n",
       "    }\n",
       "</style>\n",
       "<table border=\"1\" class=\"dataframe\">\n",
       "  <thead>\n",
       "    <tr style=\"text-align: right;\">\n",
       "      <th></th>\n",
       "      <th>Zipcode</th>\n",
       "      <th>Metro</th>\n",
       "      <th>CountyName</th>\n",
       "      <th>SizeRank</th>\n",
       "      <th>Date</th>\n",
       "      <th>value</th>\n",
       "    </tr>\n",
       "  </thead>\n",
       "  <tbody>\n",
       "    <tr>\n",
       "      <th>32855</th>\n",
       "      <td>6794</td>\n",
       "      <td>Torrington</td>\n",
       "      <td>Litchfield</td>\n",
       "      <td>14096</td>\n",
       "      <td>2018-04-01</td>\n",
       "      <td>510500.0</td>\n",
       "    </tr>\n",
       "    <tr>\n",
       "      <th>32856</th>\n",
       "      <td>6793</td>\n",
       "      <td>Torrington</td>\n",
       "      <td>Litchfield</td>\n",
       "      <td>14356</td>\n",
       "      <td>2018-04-01</td>\n",
       "      <td>664400.0</td>\n",
       "    </tr>\n",
       "    <tr>\n",
       "      <th>32857</th>\n",
       "      <td>6027</td>\n",
       "      <td>Hartford</td>\n",
       "      <td>Hartford</td>\n",
       "      <td>14477</td>\n",
       "      <td>2018-04-01</td>\n",
       "      <td>252700.0</td>\n",
       "    </tr>\n",
       "    <tr>\n",
       "      <th>32858</th>\n",
       "      <td>6796</td>\n",
       "      <td>Torrington</td>\n",
       "      <td>Litchfield</td>\n",
       "      <td>14552</td>\n",
       "      <td>2018-04-01</td>\n",
       "      <td>418700.0</td>\n",
       "    </tr>\n",
       "    <tr>\n",
       "      <th>32859</th>\n",
       "      <td>6090</td>\n",
       "      <td>Hartford</td>\n",
       "      <td>Hartford</td>\n",
       "      <td>14655</td>\n",
       "      <td>2018-04-01</td>\n",
       "      <td>348200.0</td>\n",
       "    </tr>\n",
       "  </tbody>\n",
       "</table>\n",
       "</div>"
      ],
      "text/plain": [
       "       Zipcode       Metro  CountyName  SizeRank       Date     value\n",
       "32855     6794  Torrington  Litchfield     14096 2018-04-01  510500.0\n",
       "32856     6793  Torrington  Litchfield     14356 2018-04-01  664400.0\n",
       "32857     6027    Hartford    Hartford     14477 2018-04-01  252700.0\n",
       "32858     6796  Torrington  Litchfield     14552 2018-04-01  418700.0\n",
       "32859     6090    Hartford    Hartford     14655 2018-04-01  348200.0"
      ]
     },
     "execution_count": 292,
     "metadata": {},
     "output_type": "execute_result"
    }
   ],
   "source": [
    "melted_df.tail()"
   ]
  },
  {
   "cell_type": "code",
   "execution_count": 293,
   "metadata": {},
   "outputs": [],
   "source": [
    "# Make sure the data type of the 'Date' column is datetime\n",
    "melted_df['Date'] = pd.to_datetime(melted_df['Date'], format='%m/%y')\n",
    "\n",
    "# Set the 'Date' column as index\n",
    "melted_df.set_index('Date', inplace=True)"
   ]
  },
  {
   "cell_type": "code",
   "execution_count": 294,
   "metadata": {},
   "outputs": [
    {
     "data": {
      "text/plain": [
       "DatetimeIndex(['1996-04-01', '1996-04-01', '1996-04-01', '1996-04-01',\n",
       "               '1996-04-01', '1996-04-01', '1996-04-01', '1996-04-01',\n",
       "               '1996-04-01', '1996-04-01',\n",
       "               ...\n",
       "               '2018-04-01', '2018-04-01', '2018-04-01', '2018-04-01',\n",
       "               '2018-04-01', '2018-04-01', '2018-04-01', '2018-04-01',\n",
       "               '2018-04-01', '2018-04-01'],\n",
       "              dtype='datetime64[ns]', name='Date', length=32860, freq=None)"
      ]
     },
     "execution_count": 294,
     "metadata": {},
     "output_type": "execute_result"
    }
   ],
   "source": [
    "melted_df.index"
   ]
  },
  {
   "cell_type": "markdown",
   "metadata": {},
   "source": [
    "* The data includes home values by month since April 1996 to April 2018. \n",
    "* Given the 2008 Housing Bubble precedent, I have decided to slice the dates and start my analysis at January 2009. "
   ]
  },
  {
   "cell_type": "code",
   "execution_count": 295,
   "metadata": {
    "scrolled": true
   },
   "outputs": [],
   "source": [
    "melted_df = melted_df['2008-01-01':'2018-04-01']"
   ]
  },
  {
   "cell_type": "markdown",
   "metadata": {},
   "source": [
    "### IV. EDA"
   ]
  },
  {
   "cell_type": "code",
   "execution_count": 296,
   "metadata": {
    "scrolled": false
   },
   "outputs": [
    {
     "data": {
      "text/plain": [
       "array([  113,   417,   546,   685,   899,  1145,  1332,  1362,  1599,\n",
       "        1901,  2093,  2192,  2301,  2390,  2497,  3051,  3245,  3281,\n",
       "        3368,  3532,  3565,  3581,  3696,  3760,  3778,  3789,  3978,\n",
       "        4011,  4230,  4324,  4531,  4587,  4674,  4717,  5580,  5624,\n",
       "        5687,  5756,  5852,  5870,  5941,  6037,  6063,  6084,  6176,\n",
       "        6270,  6288,  6329,  6424,  6591,  6599,  6813,  6913,  7022,\n",
       "        7031,  7144,  7259,  7317,  7382,  7471,  7496,  7595,  7704,\n",
       "        7741,  7890,  8085,  8368,  8425,  8427,  8584,  8601,  8943,\n",
       "        9032,  9136,  9160,  9275,  9298,  9457,  9577,  9681,  9715,\n",
       "        9788,  9871,  9903,  9977, 10164, 10281, 10446, 10463, 10591,\n",
       "       10651, 10663, 10786, 10809, 10893, 11245, 11629, 11907, 11929,\n",
       "       12034, 12184, 12310, 12406, 12469, 12556, 12817, 12967, 13018,\n",
       "       13065, 13214, 13215, 13266, 13465, 13564, 13567, 13646, 13714,\n",
       "       13908, 13927, 14096, 14356, 14477, 14552, 14655])"
      ]
     },
     "execution_count": 296,
     "metadata": {},
     "output_type": "execute_result"
    }
   ],
   "source": [
    "melted_df.SizeRank.unique()"
   ]
  },
  {
   "cell_type": "markdown",
   "metadata": {},
   "source": [
    "* As per SizeRank values seen above, our data includes some very densely populated, somewhat populated, and also some of the least populated zipcodes in the US."
   ]
  },
  {
   "cell_type": "code",
   "execution_count": 297,
   "metadata": {
    "scrolled": true
   },
   "outputs": [
    {
     "data": {
      "text/plain": [
       "count    1.537600e+04\n",
       "mean     2.802331e+05\n",
       "std      1.840456e+05\n",
       "min      8.010000e+04\n",
       "25%      1.838000e+05\n",
       "50%      2.419000e+05\n",
       "75%      3.145250e+05\n",
       "max      1.746000e+06\n",
       "Name: value, dtype: float64"
      ]
     },
     "execution_count": 297,
     "metadata": {},
     "output_type": "execute_result"
    }
   ],
   "source": [
    "melted_df['value'].describe()"
   ]
  },
  {
   "cell_type": "code",
   "execution_count": 298,
   "metadata": {},
   "outputs": [
    {
     "data": {
      "image/png": "[encoded data removed]",
      "text/plain": [
       "<Figure size 1584x576 with 1 Axes>"
      ]
     },
     "metadata": {
      "needs_background": "light"
     },
     "output_type": "display_data"
    }
   ],
   "source": [
    "melted_df['value'].plot(figsize=(22,8))\n",
    "plt.show()"
   ]
  },
  {
   "cell_type": "code",
   "execution_count": null,
   "metadata": {},
   "outputs": [],
   "source": []
  },
  {
   "cell_type": "code",
   "execution_count": null,
   "metadata": {},
   "outputs": [],
   "source": []
  }
 ],
 "metadata": {
  "kernelspec": {
   "display_name": "Python 3",
   "language": "python",
   "name": "python3"
  },
  "language_info": {
   "codemirror_mode": {
    "name": "ipython",
    "version": 3
   },
   "file_extension": ".py",
   "mimetype": "text/x-python",
   "name": "python",
   "nbconvert_exporter": "python",
   "pygments_lexer": "ipython3",
   "version": "3.6.9"
  }
 },
 "nbformat": 4,
 "nbformat_minor": 2
}
